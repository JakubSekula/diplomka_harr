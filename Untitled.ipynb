{
 "cells": [
  {
   "cell_type": "code",
   "execution_count": 20,
   "id": "95d898b5",
   "metadata": {},
   "outputs": [],
   "source": [
    "import cv2 as cv"
   ]
  },
  {
   "cell_type": "code",
   "execution_count": 21,
   "id": "880f753b",
   "metadata": {},
   "outputs": [
    {
     "data": {
      "text/plain": [
       "True"
      ]
     },
     "execution_count": 21,
     "metadata": {},
     "output_type": "execute_result"
    }
   ],
   "source": [
    "face_cascade = cv.CascadeClassifier()\n",
    "face_cascade.load('100/cascade.xml')"
   ]
  },
  {
   "cell_type": "code",
   "execution_count": 25,
   "id": "6cf12194",
   "metadata": {},
   "outputs": [
    {
     "name": "stdout",
     "output_type": "stream",
     "text": [
      "[[ 47  47 308 308]]\n"
     ]
    }
   ],
   "source": [
    "frame_gray = cv.imread('negative_100/img/99.png')\n",
    "house = face_cascade.detectMultiScale(frame_gray)\n",
    "print(house)"
   ]
  },
  {
   "cell_type": "code",
   "execution_count": 26,
   "id": "efbebcce",
   "metadata": {},
   "outputs": [],
   "source": [
    "for (x,y,w,h) in house:\n",
    "        center = (x + w//2, y + h//2)\n",
    "        frame = cv.ellipse(frame_gray, center, (w//2, h//2), 0, 0, 360, (255, 0, 255), 4)\n",
    "        faceROI = frame_gray[y:y+h,x:x+w]\n",
    "cv.imshow('Capture - Face detection', frame_gray)\n",
    "cv.waitKey(0)\n",
    "cv.destroyAllWindows()"
   ]
  },
  {
   "cell_type": "code",
   "execution_count": null,
   "id": "422c66de",
   "metadata": {},
   "outputs": [],
   "source": []
  },
  {
   "cell_type": "code",
   "execution_count": null,
   "id": "816de027",
   "metadata": {},
   "outputs": [],
   "source": []
  }
 ],
 "metadata": {
  "kernelspec": {
   "display_name": "Python 3 (ipykernel)",
   "language": "python",
   "name": "python3"
  },
  "language_info": {
   "codemirror_mode": {
    "name": "ipython",
    "version": 3
   },
   "file_extension": ".py",
   "mimetype": "text/x-python",
   "name": "python",
   "nbconvert_exporter": "python",
   "pygments_lexer": "ipython3",
   "version": "3.9.7"
  }
 },
 "nbformat": 4,
 "nbformat_minor": 5
}
